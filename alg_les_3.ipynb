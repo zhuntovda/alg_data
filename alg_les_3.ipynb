{
 "cells": [
  {
   "cell_type": "code",
   "execution_count": 1,
   "metadata": {},
   "outputs": [],
   "source": [
    "import matplotlib\n",
    "import numpy as np\n",
    "import matplotlib.pyplot as plt\n",
    "from scipy.stats import norm\n",
    "from sklearn import datasets\n",
    "%matplotlib inline\n",
    "\n",
    "class logistic_regression:\n",
    "    \n",
    "    def __init__(self, n_iterations=1000, eta=0.05):\n",
    "        self.n_iterations=1000\n",
    "        self.eta=eta\n",
    "    \n",
    "    def _log_grad(self, X, target):\n",
    "        m = X.shape[0]\n",
    "        y=(2*target-1)\n",
    "        score=np.dot(X, self.w.T).flatten()+self.w0\n",
    "        Z=-y/(m*(1+np.exp(y*score)))\n",
    "        grad=Z[np.newaxis, :].dot(X)\n",
    "        return grad/m, np.sum(Z)/m\n",
    "    \n",
    "    def _optimize(self, X, target):\n",
    "        for i in range(self.n_iterations):        \n",
    "            grad_w, grad_w0 = self._log_grad(X, target)\n",
    "            self.w = self.w-self.eta * grad_w\n",
    "            self.w0 = self.w0 - self.eta * grad_w0\n",
    "    \n",
    "    def fit(self, X, target):\n",
    "        self.w = np.zeros((1, X.shape[1]))\n",
    "        self.w0=0\n",
    "        self._optimize(X, target)\n",
    "    \n",
    "    def predict_proba(self, X):  \n",
    "        '''\n",
    "        Рассчёт вероятности\n",
    "        '''\n",
    "        score=X.dot(self.w.T).flatten()+self.w0\n",
    "        return 1/(1+np.exp(-score))\n",
    "    \n",
    "    def predict(self, X, thr=0.5):\n",
    "        proba=self.predict_proba(X)\n",
    "        y_predicted = np.zeros(proba.shape, dtype=bool) \n",
    "        y_predicted[proba>thr]=1\n",
    "        y_predicted[proba<=thr]=0\n",
    "        return y_predicted\n",
    "   \n",
    "    @staticmethod\n",
    "    def confusion(predicted, actual):\n",
    "        TP=np.sum(np.logical_and(predicted==1, actual==1))\n",
    "        FP=np.sum(np.logical_and(predicted==1, actual==0))\n",
    "        FN=np.sum(np.logical_and(predicted==0, actual==1))\n",
    "        TN=np.sum(np.logical_and(predicted==0, actual==0))\n",
    "        return {'TP': TP, 'FP': FP, 'FN': FN, 'TN': TN}\n",
    "    \n",
    "    @staticmethod\n",
    "    def _TPR_FPR(target):\n",
    "    \n",
    "        bins_pos=target\n",
    "        bins_neg=1-target\n",
    "        num_pos, num_neg=np.sum(bins_pos), np.sum(bins_neg)\n",
    "        \n",
    "        #Чувствительность, доля объектов негативного класса, которых при текущем значении предела\n",
    "        #правильно записали в негативный класс\n",
    "        TPR=np.concatenate([[0], np.cumsum(bins_neg)/num_neg])\n",
    "        \n",
    "        #Ложно-позитивный уровень, доля объектов положительного класса, которых при текущем значении предела\n",
    "        #ошибочно записали в негативный класс\n",
    "        FPR=np.concatenate([[0], np.cumsum(bins_pos)/num_pos])\n",
    "        \n",
    "        precision=np.cumsum(bins_neg)/(np.cumsum(bins_neg)+np.cumsum(bins_pos))\n",
    "        \n",
    "        recall = TPR\n",
    "        \n",
    "        return TPR, FPR, precision, recall \n",
    "        \n",
    "    def AUC_ROC(self, target, plotdraw=False):\n",
    "        \n",
    "        TPR, FPR, _, _ = self._TPR_FPR(target) \n",
    "        \n",
    "        AUC_ROC = np.sum((FPR[1:]-FPR[:-1])*(TPR[1:]+TPR[:-1])/2)\n",
    "        \n",
    "        if plotdraw: \n",
    "            plt.title('ROC curve')\n",
    "            plt.ylim(0, 1.05)\n",
    "            plt.xlabel('FPR')\n",
    "            plt.ylabel('TPR')\n",
    "            plt.grid()\n",
    "            plt.legend(' ', title=f'AUC-ROC={AUC_ROC:.3f}', loc='lower right')\n",
    "            plt.plot(FPR, TPR)\n",
    "            \n",
    "        return AUC_ROC\n",
    "        \n",
    "    def AUC_PR(self, target, plotdraw=False):\n",
    "        \n",
    "        _, _, precision, recall = self._TPR_FPR(target)\n",
    "        \n",
    "        AUC_PR = np.sum(precision*(recall[1:]-recall[:-1]))\n",
    "        \n",
    "        if plotdraw:\n",
    "            plt.title('PR curve')\n",
    "            plt.ylim(0, 1.05)\n",
    "            plt.xlabel('recall')\n",
    "            plt.ylabel('presision')\n",
    "            plt.grid()\n",
    "            plt.legend(' ', title=f'AUC-PR={AUC_PR:.3f}', loc='lower right')\n",
    "            plt.plot(recall[1:], precision)\n",
    "            \n",
    "        return AUC_PR"
   ]
  },
  {
   "cell_type": "code",
   "execution_count": 2,
   "metadata": {},
   "outputs": [
    {
     "name": "stdout",
     "output_type": "stream",
     "text": [
      "Размер массива признаков обучающей выборки (70, 2)\n",
      "Размер массива признаков тестовой выборки (30, 2)\n",
      "Размер массива ответов для обучающей выборки (70,)\n",
      "Размер массива ответов для тестовой выборки (30,)\n"
     ]
    }
   ],
   "source": [
    "# сгеренируем данные с помощью sklearn.datasets\n",
    "classes = datasets.make_classification(n_samples=100, n_features=2, n_informative=2, n_redundant=0, n_classes=2, random_state=1)\n",
    "\n",
    "# перемешивание датасета\n",
    "np.random.seed(12)\n",
    "shuffle_index = np.random.permutation(classes[0].shape[0])\n",
    "X_shuffled, y_shuffled = classes[0][shuffle_index], classes[1][shuffle_index]\n",
    "\n",
    "# разбивка на обучающую и тестовую выборки\n",
    "train_proportion = 0.7\n",
    "train_test_cut = int(len(classes[0]) * train_proportion)\n",
    "\n",
    "X_train, X_test, y_train, y_test = \\\n",
    "    X_shuffled[:train_test_cut], \\\n",
    "    X_shuffled[train_test_cut:], \\\n",
    "    y_shuffled[:train_test_cut], \\\n",
    "    y_shuffled[train_test_cut:]\n",
    "    \n",
    "print(\"Размер массива признаков обучающей выборки\", X_train.shape)\n",
    "print(\"Размер массива признаков тестовой выборки\", X_test.shape)\n",
    "print(\"Размер массива ответов для обучающей выборки\", y_train.shape)\n",
    "print(\"Размер массива ответов для тестовой выборки\", y_test.shape)"
   ]
  },
  {
   "cell_type": "markdown",
   "metadata": {},
   "source": [
    "Определите AUC_ROC и AUC_PR для модели логистической регрессии на тестовой выборке. Используйте реализацию модели в виде класса и функцию confusion, чтобы рассчитать TPR, FPR, precision, recal для различных порогов вероятности."
   ]
  },
  {
   "cell_type": "code",
   "execution_count": 3,
   "metadata": {},
   "outputs": [
    {
     "name": "stdout",
     "output_type": "stream",
     "text": [
      "Для порога по вероятности 0.37576183889983183 на тестовой выборке {'TP': 16, 'FP': 13, 'FN': 0, 'TN': 1}\n",
      "Для порога по вероятности 0.37743531819847453 на тестовой выборке {'TP': 16, 'FP': 12, 'FN': 0, 'TN': 2}\n",
      "Для порога по вероятности 0.38605073396047773 на тестовой выборке {'TP': 16, 'FP': 11, 'FN': 0, 'TN': 3}\n",
      "Для порога по вероятности 0.3932982404221594 на тестовой выборке {'TP': 16, 'FP': 10, 'FN': 0, 'TN': 4}\n",
      "Для порога по вероятности 0.3960311448763592 на тестовой выборке {'TP': 16, 'FP': 9, 'FN': 0, 'TN': 5}\n",
      "Для порога по вероятности 0.4219700922749085 на тестовой выборке {'TP': 16, 'FP': 8, 'FN': 0, 'TN': 6}\n",
      "Для порога по вероятности 0.4258110607284189 на тестовой выборке {'TP': 16, 'FP': 7, 'FN': 0, 'TN': 7}\n",
      "Для порога по вероятности 0.4351868598210908 на тестовой выборке {'TP': 16, 'FP': 6, 'FN': 0, 'TN': 8}\n",
      "Для порога по вероятности 0.43566683838569675 на тестовой выборке {'TP': 16, 'FP': 5, 'FN': 0, 'TN': 9}\n",
      "Для порога по вероятности 0.43744861232054794 на тестовой выборке {'TP': 16, 'FP': 4, 'FN': 0, 'TN': 10}\n",
      "Для порога по вероятности 0.4392821549169758 на тестовой выборке {'TP': 16, 'FP': 3, 'FN': 0, 'TN': 11}\n",
      "Для порога по вероятности 0.46380207065637397 на тестовой выборке {'TP': 16, 'FP': 2, 'FN': 0, 'TN': 12}\n",
      "Для порога по вероятности 0.4691646657316933 на тестовой выборке {'TP': 16, 'FP': 1, 'FN': 0, 'TN': 13}\n",
      "Для порога по вероятности 0.47141598143302305 на тестовой выборке {'TP': 15, 'FP': 1, 'FN': 1, 'TN': 13}\n",
      "Для порога по вероятности 0.47900766478809503 на тестовой выборке {'TP': 15, 'FP': 0, 'FN': 1, 'TN': 14}\n",
      "Для порога по вероятности 0.5130075417932576 на тестовой выборке {'TP': 14, 'FP': 0, 'FN': 2, 'TN': 14}\n",
      "Для порога по вероятности 0.5351629589381997 на тестовой выборке {'TP': 13, 'FP': 0, 'FN': 3, 'TN': 14}\n",
      "Для порога по вероятности 0.5356831591146942 на тестовой выборке {'TP': 12, 'FP': 0, 'FN': 4, 'TN': 14}\n",
      "Для порога по вероятности 0.5420680125899463 на тестовой выборке {'TP': 11, 'FP': 0, 'FN': 5, 'TN': 14}\n",
      "Для порога по вероятности 0.5470397841279183 на тестовой выборке {'TP': 10, 'FP': 0, 'FN': 6, 'TN': 14}\n",
      "Для порога по вероятности 0.5554778773747202 на тестовой выборке {'TP': 9, 'FP': 0, 'FN': 7, 'TN': 14}\n",
      "Для порога по вероятности 0.5605485954538282 на тестовой выборке {'TP': 8, 'FP': 0, 'FN': 8, 'TN': 14}\n",
      "Для порога по вероятности 0.5640365637648698 на тестовой выборке {'TP': 7, 'FP': 0, 'FN': 9, 'TN': 14}\n",
      "Для порога по вероятности 0.564394932280336 на тестовой выборке {'TP': 6, 'FP': 0, 'FN': 10, 'TN': 14}\n",
      "Для порога по вероятности 0.5690112812459007 на тестовой выборке {'TP': 5, 'FP': 0, 'FN': 11, 'TN': 14}\n",
      "Для порога по вероятности 0.5709156918919097 на тестовой выборке {'TP': 4, 'FP': 0, 'FN': 12, 'TN': 14}\n",
      "Для порога по вероятности 0.5743251614774529 на тестовой выборке {'TP': 3, 'FP': 0, 'FN': 13, 'TN': 14}\n",
      "Для порога по вероятности 0.5792811063971612 на тестовой выборке {'TP': 2, 'FP': 0, 'FN': 14, 'TN': 14}\n",
      "Для порога по вероятности 0.5814037305151907 на тестовой выборке {'TP': 1, 'FP': 0, 'FN': 15, 'TN': 14}\n",
      "Для порога по вероятности 0.5996765491393211 на тестовой выборке {'TP': 0, 'FP': 0, 'FN': 16, 'TN': 14}\n"
     ]
    }
   ],
   "source": [
    "mod=logistic_regression()\n",
    "mod.fit(X_train, y_train)\n",
    "\n",
    "proba=np.unique(mod.predict_proba(X_test))\n",
    "for p in proba:\n",
    "    print(f\"Для порога по вероятности {format(p)} на тестовой выборке {mod.confusion(mod.predict(X_test, p), y_test)}\")\n",
    "   "
   ]
  },
  {
   "cell_type": "code",
   "execution_count": 4,
   "metadata": {},
   "outputs": [
    {
     "name": "stdout",
     "output_type": "stream",
     "text": [
      "Для порога по вероятности 0.57 на тестовой выборке {'TP': 15, 'FP': 0, 'FN': 1, 'TN': 14}\n"
     ]
    }
   ],
   "source": [
    "porog = 0.57\n",
    "predicted=mod.predict(X_test,porog)\n",
    "\n",
    "print(f\"Для порога по вероятности {porog} на тестовой выборке {mod.confusion(mod.predict(X_test), y_test)}\")"
   ]
  },
  {
   "cell_type": "code",
   "execution_count": 5,
   "metadata": {},
   "outputs": [
    {
     "name": "stdout",
     "output_type": "stream",
     "text": [
      "AUC_ROC = 0.584\n"
     ]
    },
    {
     "data": {
      "image/png": "[encoded data removed]",
      "text/plain": [
       "<Figure size 432x288 with 1 Axes>"
      ]
     },
     "metadata": {
      "needs_background": "light"
     },
     "output_type": "display_data"
    }
   ],
   "source": [
    " print(f\"AUC_ROC = {mod.AUC_ROC(predicted,True)}\")"
   ]
  },
  {
   "cell_type": "code",
   "execution_count": 6,
   "metadata": {},
   "outputs": [
    {
     "name": "stdout",
     "output_type": "stream",
     "text": [
      "AUC_PR = 0.8905265444490361\n"
     ]
    },
    {
     "data": {
      "image/png": "[encoded data removed]",
      "text/plain": [
       "<Figure size 432x288 with 1 Axes>"
      ]
     },
     "metadata": {
      "needs_background": "light"
     },
     "output_type": "display_data"
    }
   ],
   "source": [
    "print(f\"AUC_PR = {mod.AUC_PR(predicted,True)}\")"
   ]
  }
 ],
 "metadata": {
  "kernelspec": {
   "display_name": "Python 3",
   "language": "python",
   "name": "python3"
  },
  "language_info": {
   "codemirror_mode": {
    "name": "ipython",
    "version": 3
   },
   "file_extension": ".py",
   "mimetype": "text/x-python",
   "name": "python",
   "nbconvert_exporter": "python",
   "pygments_lexer": "ipython3",
   "version": "3.8.3"
  }
 },
 "nbformat": 4,
 "nbformat_minor": 4
}
